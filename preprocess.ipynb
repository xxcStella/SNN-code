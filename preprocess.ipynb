{
 "cells": [
  {
   "cell_type": "code",
   "execution_count": 1,
   "metadata": {},
   "outputs": [
    {
     "name": "stdout",
     "output_type": "stream",
     "text": [
      "True\n"
     ]
    }
   ],
   "source": [
    "import pickle\n",
    "import numpy as np\n",
    "import torch\n",
    "import torch.nn as nn\n",
    "from torch.utils.data import Dataset, DataLoader, random_split, Subset\n",
    "# import torchvision\n",
    "import matplotlib.pyplot as plt\n",
    "import sinabs\n",
    "import sinabs.activation\n",
    "import sinabs.layers as sl\n",
    "from sinabs.from_torch import from_model\n",
    "import os\n",
    "import shutil\n",
    "import samna\n",
    "from samna.unifirm.timestamp import StopWatch\n",
    "from sklearn.model_selection import KFold\n",
    "print(torch.cuda.is_available())\n",
    "torch.cuda.get_device_name(0)\n",
    "torch.cuda.empty_cache()"
   ]
  },
  {
   "cell_type": "code",
   "execution_count": 19,
   "metadata": {},
   "outputs": [
    {
     "name": "stdout",
     "output_type": "stream",
     "text": [
      "speck2f::event::Spike(layer=13, feature=0, y=36, x=81, timestamp=0)\n",
      "14928\n",
      "speck2f::event::Spike(layer=13, feature=1, y=113, x=59, timestamp=1763)\n",
      "1763\n"
     ]
    }
   ],
   "source": [
    "# path = '/home/xxc/PhD/synsense/Data/mg_tap_9positions/events/taps_trial_23_pose_0_tap_0.pickle'\n",
    "path = '/home/xxc/PhD/synsense/Code/Experiment_Data/taps_trial_0_pose_0_tap_0.pickle'\n",
    "with open(path, 'rb') as f:\n",
    "    f = pickle.load(f)\n",
    "    print(f[0])\n",
    "    print(len(f))\n",
    "    print(f[-1])\n",
    "    print(f[-1].timestamp - f[0].timestamp)\n",
    "    # print(f)"
   ]
  },
  {
   "cell_type": "code",
   "execution_count": 34,
   "metadata": {},
   "outputs": [],
   "source": [
    "# # 128*128\n",
    "# arr = np.empty((128, 128), dtype=list)\n",
    "\n",
    "# path = '/home/xxc/PhD/synsense/Code/Experiment_Data/'\n",
    "# org_name = 'taps_trial_0_pose_0_tap_0.pickle'\n",
    "# new_name = 'taps_trial_0_pose_0.pickle'\n",
    "\n",
    "# with open(os.path.join(path, org_name), 'rb') as f:\n",
    "#     loaded_data = pickle.load(f)\n",
    "\n",
    "# for e in loaded_data:\n",
    "#     if type(arr[e.x-1, e.y-1]) != list:\n",
    "#         arr[e.x-1, e.y-1] = []\n",
    "#     arr[e.x-1, e.y-1].append(e.timestamp)\n",
    "\n",
    "# for i in range(128):\n",
    "#     for j in range(128):\n",
    "#         if arr[i,j] == None:\n",
    "#             arr[i,j] = []\n",
    "\n",
    "# with open(os.path.join(path, new_name), 'wb') as f:\n",
    "#     pickle.dump(arr, f)"
   ]
  },
  {
   "cell_type": "code",
   "execution_count": 39,
   "metadata": {},
   "outputs": [],
   "source": [
    "# 128*128\n",
    "folder = '/home/xxc/PhD/synsense/Data/mg_tap_9positions/'\n",
    "events_folder = os.path.join(folder, 'events')\n",
    "for filename in os.listdir(events_folder):\n",
    "    with open(os.path.join(events_folder, filename), 'rb') as f:\n",
    "        loaded_data = pickle.load(f)\n",
    "\n",
    "        arr = np.empty((128, 128), dtype=list)\n",
    "        for e in loaded_data:\n",
    "            if type(arr[e.x-1, e.y-1]) != list:\n",
    "                arr[e.x-1, e.y-1] = []\n",
    "            arr[e.x-1, e.y-1].append(e.timestamp)\n",
    "\n",
    "        for i in range(128):\n",
    "            for j in range(128):\n",
    "                if arr[i,j] == None:\n",
    "                    arr[i,j] = []\n",
    "    \n",
    "    with open(os.path.join(folder, 'format_process', filename[:-13] + filename[-7:]), 'wb') as f:\n",
    "        pickle.dump(arr, f)"
   ]
  },
  {
   "cell_type": "code",
   "execution_count": 36,
   "metadata": {},
   "outputs": [
    {
     "name": "stdout",
     "output_type": "stream",
     "text": [
      "[[list([591]) list([570, 754]) list([566, 569, 587, 591]) ... list([])\n",
      "  list([]) list([600])]\n",
      " [list([581]) list([569]) list([575]) ... list([]) list([]) list([590])]\n",
      " [list([580]) list([]) list([586]) ... list([]) list([]) list([578, 611])]\n",
      " ...\n",
      " [list([]) list([]) list([]) ... list([]) list([]) list([])]\n",
      " [list([]) list([]) list([]) ... list([]) list([]) list([])]\n",
      " [list([602]) list([571, 592]) list([562, 589]) ... list([]) list([])\n",
      "  list([])]] <class 'numpy.ndarray'>\n"
     ]
    }
   ],
   "source": [
    "# infile = open(os.path.join(path, new_name),'rb')\n",
    "# data = pickle.load(infile) \n",
    "# print(data, type(data))"
   ]
  },
  {
   "cell_type": "code",
   "execution_count": null,
   "metadata": {},
   "outputs": [],
   "source": []
  }
 ],
 "metadata": {
  "kernelspec": {
   "display_name": "dobot_env",
   "language": "python",
   "name": "python3"
  },
  "language_info": {
   "codemirror_mode": {
    "name": "ipython",
    "version": 3
   },
   "file_extension": ".py",
   "mimetype": "text/x-python",
   "name": "python",
   "nbconvert_exporter": "python",
   "pygments_lexer": "ipython3",
   "version": "3.8.19"
  }
 },
 "nbformat": 4,
 "nbformat_minor": 2
}
