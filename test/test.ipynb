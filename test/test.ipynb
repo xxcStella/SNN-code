{
 "cells": [
  {
   "cell_type": "code",
   "execution_count": 1,
   "metadata": {},
   "outputs": [
    {
     "name": "stdout",
     "output_type": "stream",
     "text": [
      "True\n"
     ]
    }
   ],
   "source": [
    "import pickle\n",
    "import numpy as np\n",
    "import torch\n",
    "import torch.nn as nn\n",
    "from torch.utils.data import Dataset, DataLoader, random_split, Subset\n",
    "# import torchvision\n",
    "import matplotlib.pyplot as plt\n",
    "import sinabs\n",
    "import sinabs.activation\n",
    "import sinabs.layers as sl\n",
    "from sinabs.from_torch import from_model\n",
    "import os\n",
    "import shutil\n",
    "import samna\n",
    "from samna.unifirm.timestamp import StopWatch\n",
    "from sklearn.model_selection import KFold\n",
    "print(torch.cuda.is_available())\n",
    "torch.cuda.get_device_name(0)\n",
    "torch.cuda.empty_cache()"
   ]
  },
  {
   "cell_type": "code",
   "execution_count": 18,
   "metadata": {},
   "outputs": [
    {
     "name": "stdout",
     "output_type": "stream",
     "text": [
      "speck2f::event::Spike(layer=13, feature=1, y=53, x=124, timestamp=0)\n",
      "14988\n",
      "speck2f::event::Spike(layer=13, feature=0, y=28, x=112, timestamp=1764)\n",
      "1764\n",
      "[speck2f::event::Spike(layer=13, feature=1, y=53, x=124, timestamp=0), speck2f::event::Spike(layer=13, feature=1, y=53, x=124, timestamp=0), speck2f::event::Spike(layer=13, feature=1, y=36, x=81, timestamp=1), speck2f::event::Spike(layer=13, feature=1, y=28, x=112, timestamp=1), speck2f::event::Spike(layer=13, feature=0, y=53, x=124, timestamp=4)]\n"
     ]
    }
   ],
   "source": [
    "path = '/home/xxc/PhD/synsense/Data/mg_tap_9positions/events/taps_trial_23_pose_0_tap_0.pickle'\n",
    "with open(path, 'rb') as f:\n",
    "    f = pickle.load(f)\n",
    "    print(f[0])\n",
    "    print(len(f))\n",
    "    print(f[-1])\n",
    "    print(f[-1].timestamp - f[0].timestamp)\n",
    "    print(f[:5])"
   ]
  },
  {
   "cell_type": "code",
   "execution_count": 14,
   "metadata": {},
   "outputs": [],
   "source": [
    "path = '/home/xxc/PhD/synsense/Data/mg_tap_9positions/events/'\n",
    "for filename in os.listdir(path):\n",
    "    with open(os.path.join(path, filename), 'rb') as f:\n",
    "        loaded_data = pickle.load(f)\n",
    "\n",
    "    base = loaded_data[0].timestamp\n",
    "    for sp in loaded_data:\n",
    "        sp.timestamp = (sp.timestamp - base) // 1000\n",
    "\n",
    "    with open(os.path.join(path, filename), 'wb') as f:\n",
    "        pickle.dump(loaded_data, f)"
   ]
  },
  {
   "cell_type": "code",
   "execution_count": null,
   "metadata": {},
   "outputs": [],
   "source": [
    "class MyData(Dataset):\n",
    "    def __init__(self, root_dir):\n",
    "        self.root_dir = root_dir\n",
    "        self.data_path = os.listdir(self.root_dir)\n",
    "    \n",
    "    def __getitem__(self, idx):\n",
    "        data_name = self.data_path[idx]\n",
    "        data_item_path = os.path.join(self.root_dir, data_name)\n",
    "        with open(data_item_path, 'rb') as f:\n",
    "            data = pickle.load(f)\n",
    "\n",
    "        data = torch.from_numpy(data).float()\n",
    "        data = torch.transpose(data, 0, 1)\n",
    "\n",
    "        if data_name[-6] == '_':\n",
    "            label = torch.tensor(eval(data_name[-5]), dtype=torch.long)\n",
    "        else:\n",
    "            label = torch.tensor(eval(data_name[-6:-4]), dtype=torch.long)\n",
    "        \n",
    "        return data, label\n",
    "\n",
    "    def __len__(self):\n",
    "        return len(self.data_path)\n",
    "\n",
    "root_dir_1 = 'F:\\Files\\PhD/Braille\\Data/braille-27letters-sphere/effect-speed/speed-v10-depth2.5/train'\n",
    "root_dir_2 = 'F:\\Files\\PhD/Braille\\Data/braille-27letters-sphere/effect-speed/speed-v10-depth2.5/test'\n",
    "\n",
    "train_data = MyData(root_dir_1)\n",
    "test_data  = MyData(root_dir_2)"
   ]
  }
 ],
 "metadata": {
  "kernelspec": {
   "display_name": "dobot_env",
   "language": "python",
   "name": "python3"
  },
  "language_info": {
   "codemirror_mode": {
    "name": "ipython",
    "version": 3
   },
   "file_extension": ".py",
   "mimetype": "text/x-python",
   "name": "python",
   "nbconvert_exporter": "python",
   "pygments_lexer": "ipython3",
   "version": "3.8.19"
  }
 },
 "nbformat": 4,
 "nbformat_minor": 2
}
