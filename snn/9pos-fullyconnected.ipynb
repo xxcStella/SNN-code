{
 "cells": [
  {
   "cell_type": "code",
   "execution_count": 1,
   "metadata": {},
   "outputs": [
    {
     "name": "stdout",
     "output_type": "stream",
     "text": [
      "True\n"
     ]
    }
   ],
   "source": [
    "import pickle\n",
    "import numpy as np\n",
    "import torch\n",
    "import torch.nn as nn\n",
    "from torch.utils.data import Dataset, DataLoader, random_split, Subset\n",
    "# import torchvision\n",
    "import matplotlib.pyplot as plt\n",
    "import sinabs\n",
    "import sinabs.activation\n",
    "import sinabs.layers as sl\n",
    "from sinabs.from_torch import from_model\n",
    "import os\n",
    "import shutil\n",
    "import samna\n",
    "from samna.unifirm.timestamp import StopWatch\n",
    "from sklearn.model_selection import KFold\n",
    "print(torch.cuda.is_available())\n",
    "torch.cuda.get_device_name(0)\n",
    "torch.cuda.empty_cache()"
   ]
  },
  {
   "cell_type": "code",
   "execution_count": 3,
   "metadata": {},
   "outputs": [
    {
     "name": "stdout",
     "output_type": "stream",
     "text": [
      "torch.Size([2000, 256])\n",
      "180 90\n"
     ]
    }
   ],
   "source": [
    "class MyData(Dataset):\n",
    "    def __init__(self, root_dir):\n",
    "        self.root_dir = root_dir\n",
    "        self.data_path = os.listdir(self.root_dir)\n",
    "    \n",
    "    def __getitem__(self, idx):\n",
    "        data_name = self.data_path[idx]\n",
    "        data_item_path = os.path.join(self.root_dir, data_name)\n",
    "        with open(data_item_path, 'rb') as f:\n",
    "            data = np.load(f)\n",
    "\n",
    "        data = torch.from_numpy(data).float()\n",
    "        data = torch.transpose(data, 0, 1)\n",
    "\n",
    "        if data_name[-6] == '_':\n",
    "            label = torch.tensor(eval(data_name[-5]), dtype=torch.long)\n",
    "        else:\n",
    "            label = torch.tensor(eval(data_name[-6:-4]), dtype=torch.long)\n",
    "        \n",
    "        return data, label\n",
    "\n",
    "    def __len__(self):\n",
    "        return len(self.data_path)\n",
    "\n",
    "root_dir_1 = '/home/xxc/PhD/synsense/Data/mg_tap_9positions/deep_learning/train'\n",
    "root_dir_2 = '/home/xxc/PhD/synsense/Data/mg_tap_9positions/deep_learning/test'\n",
    "\n",
    "train_data = MyData(root_dir_1)\n",
    "test_data  = MyData(root_dir_2)\n",
    "\n",
    "print(train_data[0][0].shape)\n",
    "print(len(train_data), len(test_data))"
   ]
  },
  {
   "cell_type": "markdown",
   "metadata": {},
   "source": [
    "training"
   ]
  },
  {
   "cell_type": "code",
   "execution_count": 8,
   "metadata": {},
   "outputs": [
    {
     "name": "stdout",
     "output_type": "stream",
     "text": [
      "epoch: 0, accuracy: 11.67%, running_loss: 13.19, current_lr: 0.010000\n",
      "epoch: 1, accuracy: 22.50%, running_loss: 49.51, current_lr: 0.010000\n",
      "epoch: 2, accuracy: 45.00%, running_loss: 6.76, current_lr: 0.010000\n",
      "epoch: 3, accuracy: 53.33%, running_loss: 6.85, current_lr: 0.010000\n",
      "epoch: 4, accuracy: 71.67%, running_loss: 4.65, current_lr: 0.010000\n",
      "epoch: 5, accuracy: 75.00%, running_loss: 6.43, current_lr: 0.001000\n",
      "epoch: 6, accuracy: 85.83%, running_loss: 1.24, current_lr: 0.001000\n",
      "epoch: 7, accuracy: 85.83%, running_loss: 1.18, current_lr: 0.001000\n",
      "epoch: 8, accuracy: 87.50%, running_loss: 1.14, current_lr: 0.001000\n",
      "epoch: 9, accuracy: 88.33%, running_loss: 1.07, current_lr: 0.001000\n",
      "epoch: 10, accuracy: 88.33%, running_loss: 1.04, current_lr: 0.001000\n",
      "epoch: 11, accuracy: 88.33%, running_loss: 1.04, current_lr: 0.000100\n",
      "epoch: 12, accuracy: 88.33%, running_loss: 1.03, current_lr: 0.000100\n",
      "epoch: 13, accuracy: 88.33%, running_loss: 1.03, current_lr: 0.000100\n",
      "epoch: 14, accuracy: 88.33%, running_loss: 1.04, current_lr: 0.000100\n",
      "epoch: 15, accuracy: 88.33%, running_loss: 1.03, current_lr: 0.000100\n",
      "epoch: 16, accuracy: 88.33%, running_loss: 1.03, current_lr: 0.000100\n",
      "epoch: 17, accuracy: 88.33%, running_loss: 1.03, current_lr: 0.000010\n",
      "epoch: 18, accuracy: 88.33%, running_loss: 1.03, current_lr: 0.000010\n",
      "epoch: 19, accuracy: 88.33%, running_loss: 1.04, current_lr: 0.000010\n",
      "accuracy on validation set: 90.00%\n",
      "epoch: 0, accuracy: 12.50%, running_loss: 61.15, current_lr: 0.010000\n",
      "epoch: 1, accuracy: 15.83%, running_loss: 28.70, current_lr: 0.010000\n",
      "epoch: 2, accuracy: 33.33%, running_loss: 7.99, current_lr: 0.010000\n",
      "epoch: 3, accuracy: 42.50%, running_loss: 7.87, current_lr: 0.010000\n",
      "epoch: 4, accuracy: 63.33%, running_loss: 11.21, current_lr: 0.010000\n",
      "epoch: 5, accuracy: 69.17%, running_loss: 7.22, current_lr: 0.001000\n",
      "epoch: 6, accuracy: 70.83%, running_loss: 3.89, current_lr: 0.001000\n",
      "epoch: 7, accuracy: 80.83%, running_loss: 1.97, current_lr: 0.001000\n",
      "epoch: 8, accuracy: 73.33%, running_loss: 3.12, current_lr: 0.001000\n",
      "epoch: 9, accuracy: 80.83%, running_loss: 1.75, current_lr: 0.001000\n",
      "epoch: 10, accuracy: 80.83%, running_loss: 1.73, current_lr: 0.001000\n",
      "epoch: 11, accuracy: 79.17%, running_loss: 1.78, current_lr: 0.000100\n",
      "epoch: 12, accuracy: 79.17%, running_loss: 1.87, current_lr: 0.000100\n",
      "epoch: 13, accuracy: 80.83%, running_loss: 1.74, current_lr: 0.000100\n",
      "epoch: 14, accuracy: 80.00%, running_loss: 1.80, current_lr: 0.000100\n",
      "epoch: 15, accuracy: 80.00%, running_loss: 1.77, current_lr: 0.000100\n",
      "epoch: 16, accuracy: 80.83%, running_loss: 1.71, current_lr: 0.000100\n",
      "epoch: 17, accuracy: 80.83%, running_loss: 1.79, current_lr: 0.000010\n",
      "epoch: 18, accuracy: 80.83%, running_loss: 1.76, current_lr: 0.000010\n",
      "epoch: 19, accuracy: 80.00%, running_loss: 1.82, current_lr: 0.000010\n",
      "accuracy on validation set: 70.00%\n",
      "epoch: 0, accuracy: 14.17%, running_loss: 37.34, current_lr: 0.010000\n",
      "epoch: 1, accuracy: 20.00%, running_loss: 19.82, current_lr: 0.010000\n",
      "epoch: 2, accuracy: 35.83%, running_loss: 8.81, current_lr: 0.010000\n",
      "epoch: 3, accuracy: 45.00%, running_loss: 7.45, current_lr: 0.010000\n",
      "epoch: 4, accuracy: 60.83%, running_loss: 21.77, current_lr: 0.010000\n",
      "epoch: 5, accuracy: 76.67%, running_loss: 2.19, current_lr: 0.001000\n",
      "epoch: 6, accuracy: 71.67%, running_loss: 3.03, current_lr: 0.001000\n",
      "epoch: 7, accuracy: 82.50%, running_loss: 1.80, current_lr: 0.001000\n",
      "epoch: 8, accuracy: 88.33%, running_loss: 1.09, current_lr: 0.001000\n",
      "epoch: 9, accuracy: 90.00%, running_loss: 0.88, current_lr: 0.001000\n",
      "epoch: 10, accuracy: 90.00%, running_loss: 0.88, current_lr: 0.001000\n",
      "epoch: 11, accuracy: 90.00%, running_loss: 0.88, current_lr: 0.000100\n",
      "epoch: 12, accuracy: 90.00%, running_loss: 0.88, current_lr: 0.000100\n",
      "epoch: 13, accuracy: 90.00%, running_loss: 0.88, current_lr: 0.000100\n",
      "epoch: 14, accuracy: 90.00%, running_loss: 0.88, current_lr: 0.000100\n",
      "epoch: 15, accuracy: 90.00%, running_loss: 0.88, current_lr: 0.000100\n",
      "epoch: 16, accuracy: 90.00%, running_loss: 0.88, current_lr: 0.000100\n",
      "epoch: 17, accuracy: 90.00%, running_loss: 0.88, current_lr: 0.000010\n",
      "epoch: 18, accuracy: 90.00%, running_loss: 0.88, current_lr: 0.000010\n",
      "epoch: 19, accuracy: 90.00%, running_loss: 0.88, current_lr: 0.000010\n",
      "accuracy on validation set: 86.67%\n"
     ]
    }
   ],
   "source": [
    "lr = 1e-2\n",
    "\n",
    "device = 'cuda:0'\n",
    "k_folds = 3\n",
    "kfold = KFold(n_splits=k_folds, shuffle=False)\n",
    "batch_size = 30\n",
    "loss_fn = nn.CrossEntropyLoss()\n",
    "\n",
    "fold_train_acc = []\n",
    "fold_val_acc = []\n",
    "\n",
    "for fold, (train_ids, val_ids) in enumerate(kfold.split(train_data)):\n",
    "    # 模型初始化\n",
    "    linear_model = nn.Sequential(\n",
    "        nn.Linear(256, 400),\n",
    "        nn.ReLU(),\n",
    "        nn.Dropout(p=0.2),\n",
    "        nn.Linear(400, 600),\n",
    "        nn.ReLU(),\n",
    "        nn.Dropout(p=0.2),\n",
    "        nn.Linear(600, 200),\n",
    "        nn.ReLU(),\n",
    "        nn.Dropout(p=0.2),\n",
    "        nn.Linear(200, 9)\n",
    "    )\n",
    "    linear_model = from_model(linear_model, batch_size=batch_size, input_shape=(1, 2000, 256), \n",
    "                              add_spiking_output=True).to(device)\n",
    "    optimizer = torch.optim.Adam(linear_model.parameters(), lr)\n",
    "    scheduler = torch.optim.lr_scheduler.StepLR(optimizer, step_size=9, gamma=0.1)\n",
    "    # 分割数据集\n",
    "    train_sub = Subset(train_data, train_ids)\n",
    "    val_sub = Subset(train_data, val_ids)\n",
    "    # 创建数据加载器\n",
    "    train_loader = DataLoader(train_sub, batch_size, shuffle=True, drop_last=True)\n",
    "    val_loader  = DataLoader(val_sub, batch_size, drop_last=True)\n",
    "\n",
    "    # 训练模型\n",
    "    linear_model.train()\n",
    "    epochs = 20\n",
    "    for e in range(epochs):\n",
    "        running_loss = 0.\n",
    "        acc = 0\n",
    "        scheduler.step()\n",
    "        for i, (input, target) in enumerate(train_loader):\n",
    "            optimizer.zero_grad()\n",
    "            linear_model.reset_states()\n",
    "\n",
    "            input = input.to(device)\n",
    "            target = target.to(device)\n",
    "            output = linear_model(input)\n",
    "            sum_output = output.sum(1)\n",
    "            loss = loss_fn(sum_output, target)\n",
    "            loss.backward()\n",
    "            optimizer.step()\n",
    "\n",
    "            running_loss += loss\n",
    "\n",
    "            for j in range(batch_size):\n",
    "                if sum_output[j].argmax() == target[j]:\n",
    "                    acc += 1\n",
    "\n",
    "        print(\"epoch: %d, accuracy: %.2f%%, running_loss: %.2f, current_lr: %.6f\" \n",
    "              % (e, acc/len(train_sub)*100, running_loss, scheduler.get_last_lr()[0]) )\n",
    "    fold_train_acc.append(np.around(acc/len(train_sub)*100, 2))\n",
    "\n",
    "    # 验证模型\n",
    "    acc_num = 0\n",
    "    for i, (data, target) in enumerate(val_loader):\n",
    "        with torch.no_grad():\n",
    "            linear_model.reset_states()\n",
    "            data = data.to(device)\n",
    "            target = target.to(device)\n",
    "            output = linear_model(data)\n",
    "            sum_output = output.sum(1)\n",
    "\n",
    "        for j in range(batch_size):\n",
    "            if sum_output[j].argmax() == target[j]:\n",
    "                acc_num += 1\n",
    "    print(\"accuracy on validation set: %.2f%%\" % (acc_num/len(val_sub)*100))\n",
    "    fold_val_acc.append(np.around(acc_num/len(val_sub)*100, 2))"
   ]
  },
  {
   "cell_type": "code",
   "execution_count": 9,
   "metadata": {},
   "outputs": [
    {
     "name": "stdout",
     "output_type": "stream",
     "text": [
      "[88.33, 80.0, 90.0]\n",
      "[90.0, 70.0, 86.67]\n",
      "86.11\n",
      "82.22333333333334\n"
     ]
    }
   ],
   "source": [
    "print(fold_train_acc)\n",
    "print(fold_val_acc)\n",
    "\n",
    "sum = 0\n",
    "cnt = 0\n",
    "for i in fold_train_acc:\n",
    "    sum += i\n",
    "    cnt += 1\n",
    "print(sum/cnt)\n",
    "\n",
    "sum = 0\n",
    "cnt = 0\n",
    "for i in fold_val_acc:\n",
    "    sum += i\n",
    "    cnt += 1\n",
    "print(sum/cnt)"
   ]
  },
  {
   "cell_type": "code",
   "execution_count": 10,
   "metadata": {},
   "outputs": [],
   "source": [
    "model_path = './models/9pos.pth'\n",
    "torch.save(linear_model, model_path)"
   ]
  },
  {
   "cell_type": "markdown",
   "metadata": {},
   "source": [
    "Testing"
   ]
  },
  {
   "cell_type": "code",
   "execution_count": 11,
   "metadata": {},
   "outputs": [
    {
     "name": "stdout",
     "output_type": "stream",
     "text": [
      "accuracy on testing set: 88.89%\n"
     ]
    }
   ],
   "source": [
    "model = torch.load(model_path)\n",
    "test_loader  = DataLoader(test_data, batch_size, drop_last=True)\n",
    "\n",
    "acc_num = 0\n",
    "for i, (data, target) in enumerate(test_loader):\n",
    "    model.eval()\n",
    "    with torch.no_grad():\n",
    "        model.reset_states()\n",
    "        data = data.to(device)\n",
    "        target = target.to(device)\n",
    "        output = model(data)\n",
    "        sum_output = output.sum(1)\n",
    "\n",
    "    for j in range(batch_size):\n",
    "        if sum_output[j].argmax() == target[j]:\n",
    "            acc_num += 1\n",
    "print(\"accuracy on testing set: %.2f%%\" % (acc_num/len(test_data)*100))"
   ]
  },
  {
   "cell_type": "code",
   "execution_count": null,
   "metadata": {},
   "outputs": [],
   "source": []
  }
 ],
 "metadata": {
  "kernelspec": {
   "display_name": "dobot_env",
   "language": "python",
   "name": "python3"
  },
  "language_info": {
   "codemirror_mode": {
    "name": "ipython",
    "version": 3
   },
   "file_extension": ".py",
   "mimetype": "text/x-python",
   "name": "python",
   "nbconvert_exporter": "python",
   "pygments_lexer": "ipython3",
   "version": "3.8.19"
  }
 },
 "nbformat": 4,
 "nbformat_minor": 2
}
